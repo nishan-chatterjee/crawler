{
 "cells": [
  {
   "cell_type": "code",
   "execution_count": 7,
   "metadata": {},
   "outputs": [
    {
     "name": "stderr",
     "output_type": "stream",
     "text": [
      "  0%|          | 0/5 [00:00<?, ?it/s]"
     ]
    },
    {
     "data": {
      "text/html": [
       "Requesting URL: <a href=\"https://www.europeana.eu/api/v2/search.json?query=newspapers&rows=100&cursor=*&text_fulltext=true&wskey=tinvoyfulty&reusability=open,permission,restricted&qf=TYPE%3A%22TEXT%22&qf=MIME_TYPE%3Aapplication%2Fpdf\" target=\"_blank\">Europeana.eu Page 1</a>"
      ],
      "text/plain": [
       "<IPython.core.display.HTML object>"
      ]
     },
     "metadata": {},
     "output_type": "display_data"
    },
    {
     "name": "stderr",
     "output_type": "stream",
     "text": [
      " 20%|██        | 1/5 [00:00<00:03,  1.26it/s]"
     ]
    },
    {
     "data": {
      "text/html": [
       "Requesting URL: <a href=\"https://www.europeana.eu/api/v2/search.json?query=newspapers&rows=100&cursor=AoREQ3X97K2F8wI8LzI4NC9VUk5fTkJOX1NJX0RPQ18wM09VSktZNQ%3D%3D&text_fulltext=true&wskey=tinvoyfulty&reusability=open,permission,restricted&qf=TYPE%3A%22TEXT%22&qf=MIME_TYPE%3Aapplication%2Fpdf\" target=\"_blank\">Europeana.eu Page 2</a>"
      ],
      "text/plain": [
       "<IPython.core.display.HTML object>"
      ]
     },
     "metadata": {},
     "output_type": "display_data"
    },
    {
     "name": "stderr",
     "output_type": "stream",
     "text": [
      " 40%|████      | 2/5 [00:01<00:02,  1.44it/s]"
     ]
    },
    {
     "data": {
      "text/html": [
       "Requesting URL: <a href=\"https://www.europeana.eu/api/v2/search.json?query=newspapers&rows=100&cursor=AoREQ3X97K2F8wI8LzI4NC9VUk5fTkJOX1NJX0RPQ18wRE1LRTZJMg%3D%3D&text_fulltext=true&wskey=tinvoyfulty&reusability=open,permission,restricted&qf=TYPE%3A%22TEXT%22&qf=MIME_TYPE%3Aapplication%2Fpdf\" target=\"_blank\">Europeana.eu Page 3</a>"
      ],
      "text/plain": [
       "<IPython.core.display.HTML object>"
      ]
     },
     "metadata": {},
     "output_type": "display_data"
    },
    {
     "name": "stderr",
     "output_type": "stream",
     "text": [
      " 60%|██████    | 3/5 [00:02<00:01,  1.44it/s]"
     ]
    },
    {
     "data": {
      "text/html": [
       "Requesting URL: <a href=\"https://www.europeana.eu/api/v2/search.json?query=newspapers&rows=100&cursor=AoREQ3X97K2F8wI8LzI4NC9VUk5fTkJOX1NJX0RPQ18wTkRMNVQ5Qw%3D%3D&text_fulltext=true&wskey=tinvoyfulty&reusability=open,permission,restricted&qf=TYPE%3A%22TEXT%22&qf=MIME_TYPE%3Aapplication%2Fpdf\" target=\"_blank\">Europeana.eu Page 4</a>"
      ],
      "text/plain": [
       "<IPython.core.display.HTML object>"
      ]
     },
     "metadata": {},
     "output_type": "display_data"
    },
    {
     "name": "stderr",
     "output_type": "stream",
     "text": [
      " 80%|████████  | 4/5 [00:02<00:00,  1.42it/s]"
     ]
    },
    {
     "data": {
      "text/html": [
       "Requesting URL: <a href=\"https://www.europeana.eu/api/v2/search.json?query=newspapers&rows=100&cursor=AoREQ3X97K2F8wI8LzI4NC9VUk5fTkJOX1NJX0RPQ18wVzhGOUJFVQ%3D%3D&text_fulltext=true&wskey=tinvoyfulty&reusability=open,permission,restricted&qf=TYPE%3A%22TEXT%22&qf=MIME_TYPE%3Aapplication%2Fpdf\" target=\"_blank\">Europeana.eu Page 5</a>"
      ],
      "text/plain": [
       "<IPython.core.display.HTML object>"
      ]
     },
     "metadata": {},
     "output_type": "display_data"
    },
    {
     "name": "stderr",
     "output_type": "stream",
     "text": [
      "100%|██████████| 5/5 [00:03<00:00,  1.40it/s]\n"
     ]
    }
   ],
   "source": [
    "import urllib.request\n",
    "import json\n",
    "import urllib.parse\n",
    "from IPython.display import display, HTML\n",
    "from tqdm import tqdm\n",
    "\n",
    "def search(*args, API_KEY=None, reusability=None, media_type=None, file_format=None, cursor_based=True, max_runs=None):\n",
    "    if not API_KEY:\n",
    "        raise ValueError(\"API_KEY is required\")\n",
    "\n",
    "    # Join the search terms with a '+' separator\n",
    "    search_string = '+'.join(args)\n",
    "\n",
    "    # Construct the base URL\n",
    "    base_url = \"https://www.europeana.eu/api/v2/search.json?\"\n",
    "    filters = []\n",
    "\n",
    "    # Apply the reusability filter if provided\n",
    "    if reusability:\n",
    "        reusability_filter = 'reusability=' + ','.join(reusability)\n",
    "        filters.append(reusability_filter)\n",
    "\n",
    "    # Apply the media type filter if provided\n",
    "    if media_type:\n",
    "        media_type_filter = 'qf=TYPE%3A%22' + '%22%20OR%20TYPE%3A%22'.join(media_type) + '%22'\n",
    "        filters.append(media_type_filter)\n",
    "\n",
    "    # Apply the file format filter if provided\n",
    "    if file_format:\n",
    "        file_format_filter = 'qf=MIME_TYPE%3A' + '%20OR%20MIME_TYPE%3A'.join(\n",
    "            [urllib.parse.quote_plus(f'application/{fmt}') for fmt in file_format]\n",
    "        )\n",
    "        filters.append(file_format_filter)\n",
    "\n",
    "    # Join filters with '&'\n",
    "    filters_string = '&'.join(filters)\n",
    "\n",
    "    cursor = '*'\n",
    "    all_data = []\n",
    "    run_count = 0\n",
    "\n",
    "    # Set up progress bar using tqdm\n",
    "    if max_runs is None:\n",
    "        progress_bar = tqdm()\n",
    "    else:\n",
    "        progress_bar = tqdm(total=max_runs)\n",
    "\n",
    "    while cursor and (max_runs is None or run_count < max_runs):\n",
    "        run_count += 1\n",
    "        \n",
    "        # Construct the full URL with the cursor parameter\n",
    "        if cursor_based:\n",
    "            url = f\"{base_url}query={search_string}&rows=100&cursor={cursor}&text_fulltext=true&wskey={API_KEY}&{filters_string}\"\n",
    "        else:\n",
    "            # If not cursor-based, we use the basic pagination (start=1, 101, etc.)\n",
    "            start = len(all_data) + 1\n",
    "            url = f\"{base_url}query={search_string}&rows=100&start={start}&text_fulltext=true&wskey={API_KEY}&{filters_string}\"\n",
    "\n",
    "        # Display the URL for the current iteration\n",
    "        text = \"Europeana.eu Page \" + str(len(all_data) // 100 + 1)\n",
    "        display(HTML(f'Requesting URL: <a href=\"{url}\" target=\"_blank\">{text}</a>'))\n",
    "\n",
    "        try:\n",
    "            # Open the URL and read the response\n",
    "            with urllib.request.urlopen(url) as response:\n",
    "                data = json.load(response)\n",
    "\n",
    "            # Append the new data to the all_data list\n",
    "            all_data.extend(data['items'])\n",
    "\n",
    "            # Check for cursor in the response for the next page\n",
    "            cursor = urllib.parse.quote_plus(data.get('nextCursor', ''))\n",
    "\n",
    "            # Save the intermediate data to a file\n",
    "            with open('search.json', 'w') as outfile:\n",
    "                json.dump(all_data, outfile)\n",
    "\n",
    "            # If no cursor is returned, stop the loop\n",
    "            if not cursor:\n",
    "                print(\"Reached the end of the result set.\")\n",
    "                break\n",
    "\n",
    "        except urllib.error.HTTPError as e:\n",
    "            print(f\"HTTP Error: {e.code} - {e.reason}\")\n",
    "            break\n",
    "        except urllib.error.URLError as e:\n",
    "            print(f\"URL Error: {e.reason}\")\n",
    "            break\n",
    "        except Exception as e:\n",
    "            print(f\"Unexpected error: {e}\")\n",
    "            break\n",
    "        \n",
    "        # Update progress bar\n",
    "        progress_bar.update(1)\n",
    "\n",
    "    # Close the progress bar\n",
    "    progress_bar.close()\n",
    "\n",
    "    return all_data\n",
    "\n",
    "# Example usage\n",
    "API_KEY = 'tinvoyfulty'  # Replace with your actual API key\n",
    "results = search(\n",
    "    'newspapers', \n",
    "    API_KEY=API_KEY, \n",
    "    reusability=['open', 'permission', 'restricted'], \n",
    "    media_type=['TEXT'], \n",
    "    file_format=['pdf'], \n",
    "    cursor_based=True, \n",
    "    max_runs=5  # Limit the number of cursor-based runs for testing\n",
    ")\n"
   ]
  },
  {
   "cell_type": "code",
   "execution_count": 11,
   "metadata": {},
   "outputs": [
    {
     "data": {
      "text/plain": [
       "500"
      ]
     },
     "execution_count": 11,
     "metadata": {},
     "output_type": "execute_result"
    }
   ],
   "source": [
    "len(results)"
   ]
  },
  {
   "cell_type": "code",
   "execution_count": 13,
   "metadata": {},
   "outputs": [
    {
     "name": "stdout",
     "output_type": "stream",
     "text": [
      "No duplicates found.\n"
     ]
    }
   ],
   "source": [
    "# Assuming 'results' is a list of dictionaries, and each item has a unique 'id'\n",
    "seen = set()\n",
    "duplicates = [item for item in results if item['id'] in seen or seen.add(item['id'])]\n",
    "\n",
    "if duplicates:\n",
    "    print(\"Duplicates found:\", duplicates)\n",
    "else:\n",
    "    print(\"No duplicates found.\")"
   ]
  }
 ],
 "metadata": {
  "kernelspec": {
   "display_name": "emma",
   "language": "python",
   "name": "python3"
  },
  "language_info": {
   "codemirror_mode": {
    "name": "ipython",
    "version": 3
   },
   "file_extension": ".py",
   "mimetype": "text/x-python",
   "name": "python",
   "nbconvert_exporter": "python",
   "pygments_lexer": "ipython3",
   "version": "3.8.19"
  }
 },
 "nbformat": 4,
 "nbformat_minor": 2
}
